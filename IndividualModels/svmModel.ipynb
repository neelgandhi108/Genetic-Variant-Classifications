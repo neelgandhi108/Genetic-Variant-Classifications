{
 "cells": [
  {
   "cell_type": "code",
   "execution_count": 1,
   "metadata": {},
   "outputs": [],
   "source": [
    "# Using SVM Model to predict conflicting classes\n",
    "# Julian\n",
    "\n",
    "# Imports\n",
    "from sklearn import svm\n",
    "import pandas as pd\n",
    "\n"
   ]
  },
  {
   "cell_type": "code",
   "execution_count": 4,
   "metadata": {},
   "outputs": [
    {
     "name": "stderr",
     "output_type": "stream",
     "text": [
      "C:\\Users\\julianxywu\\AppData\\Local\\Temp\\ipykernel_26900\\2075012533.py:4: DtypeWarning: Columns (37,39) have mixed types. Specify dtype option on import or set low_memory=False.\n",
      "  data = pd.read_csv(file)\n"
     ]
    }
   ],
   "source": [
    "# Import data\n",
    "\n",
    "file = './processedData.csv'\n",
    "data = pd.read_csv(file)"
   ]
  },
  {
   "cell_type": "code",
   "execution_count": 6,
   "metadata": {},
   "outputs": [
    {
     "name": "stdout",
     "output_type": "stream",
     "text": [
      "       Unnamed: 0  CHROM        POS  REF  ALT  AF_ESP  AF_EXAC  AF_TGP  \\\n",
      "0               0      1    1168180    3    4  0.0771  0.10020  0.1066   \n",
      "1               1      1    1470752    3    1  0.0000  0.00000  0.0000   \n",
      "2               2      1    1737942    1    3  0.0000  0.00001  0.0000   \n",
      "3               3      1    2160305    3    1  0.0000  0.00000  0.0000   \n",
      "4               4      1    2160305    3    2  0.0000  0.00000  0.0000   \n",
      "...           ...    ...        ...  ...  ...     ...      ...     ...   \n",
      "65183       65183     23  154158201    2    3  0.0801  0.13923  0.1605   \n",
      "65184       65184     23  154159118    4    2  0.0020  0.00060  0.0013   \n",
      "65185       65185     23  154194886    4    2  0.0125  0.00370  0.0111   \n",
      "65186       65186     23  154490187    2    4  0.0003  0.00034  0.0000   \n",
      "65187       65187     23  154508542    3    4  0.0019  0.00267  0.0008   \n",
      "\n",
      "                                                CLNDISDB CLNDISDBINCL  ...  \\\n",
      "0                                        MedGen:CN169374          NaN  ...   \n",
      "1      MedGen:C1843891,OMIM:607454,Orphanet:ORPHA9877...          NaN  ...   \n",
      "2      Human_Phenotype_Ontology:HP:0000486,MedGen:C00...          NaN  ...   \n",
      "3      MedGen:C1321551,OMIM:182212,SNOMED_CT:83092002...          NaN  ...   \n",
      "4         MedGen:C1321551,OMIM:182212,SNOMED_CT:83092002          NaN  ...   \n",
      "...                                                  ...          ...  ...   \n",
      "65183  MedGen:C0019069,OMIM:306700,SNOMED_CT:28293008...          NaN  ...   \n",
      "65184                    MedGen:CN169374|MedGen:CN239152          NaN  ...   \n",
      "65185                    MedGen:CN169374|MedGen:CN239152          NaN  ...   \n",
      "65186  MedGen:C3501611,Orphanet:ORPHA777|MedGen:CN169374          NaN  ...   \n",
      "65187                    MedGen:CN169374|MedGen:CN517202          NaN  ...   \n",
      "\n",
      "      has_Cardiovascular_phenotype has_Hypertrophic_cardiomyopathy  \\\n",
      "0                                0                               0   \n",
      "1                                0                               0   \n",
      "2                                0                               0   \n",
      "3                                0                               0   \n",
      "4                                0                               0   \n",
      "...                            ...                             ...   \n",
      "65183                            0                               0   \n",
      "65184                            0                               0   \n",
      "65185                            0                               0   \n",
      "65186                            0                               0   \n",
      "65187                            0                               0   \n",
      "\n",
      "      has_Ataxia-telangiectasia_syndrome  \\\n",
      "0                                      0   \n",
      "1                                      0   \n",
      "2                                      0   \n",
      "3                                      0   \n",
      "4                                      0   \n",
      "...                                  ...   \n",
      "65183                                  0   \n",
      "65184                                  0   \n",
      "65185                                  0   \n",
      "65186                                  0   \n",
      "65187                                  0   \n",
      "\n",
      "      has_Hereditary_nonpolyposis_colon_cancer  \\\n",
      "0                                            0   \n",
      "1                                            0   \n",
      "2                                            0   \n",
      "3                                            0   \n",
      "4                                            0   \n",
      "...                                        ...   \n",
      "65183                                        0   \n",
      "65184                                        0   \n",
      "65185                                        0   \n",
      "65186                                        0   \n",
      "65187                                        0   \n",
      "\n",
      "       has_Dilated_Cardiomyopathy,_Dominant has_Familial_hypercholesterolemia  \\\n",
      "0                                         0                                 0   \n",
      "1                                         0                                 0   \n",
      "2                                         0                                 0   \n",
      "3                                         0                                 0   \n",
      "4                                         0                                 0   \n",
      "...                                     ...                               ...   \n",
      "65183                                     0                                 0   \n",
      "65184                                     0                                 0   \n",
      "65185                                     0                                 0   \n",
      "65186                                     0                                 0   \n",
      "65187                                     0                                 0   \n",
      "\n",
      "      has_Breast-ovarian_cancer,_familial_2  \\\n",
      "0                                         0   \n",
      "1                                         0   \n",
      "2                                         0   \n",
      "3                                         0   \n",
      "4                                         0   \n",
      "...                                     ...   \n",
      "65183                                     0   \n",
      "65184                                     0   \n",
      "65185                                     0   \n",
      "65186                                     0   \n",
      "65187                                     0   \n",
      "\n",
      "       has_Familial_adenomatous_polyposis_1  \\\n",
      "0                                         0   \n",
      "1                                         0   \n",
      "2                                         0   \n",
      "3                                         0   \n",
      "4                                         0   \n",
      "...                                     ...   \n",
      "65183                                     0   \n",
      "65184                                     0   \n",
      "65185                                     0   \n",
      "65186                                     0   \n",
      "65187                                     0   \n",
      "\n",
      "       has_Limb-Girdle_Muscular_Dystrophy,_Recessive  has_Lynch_syndrome  \n",
      "0                                                  0                   0  \n",
      "1                                                  0                   0  \n",
      "2                                                  0                   0  \n",
      "3                                                  0                   0  \n",
      "4                                                  0                   0  \n",
      "...                                              ...                 ...  \n",
      "65183                                              0                   0  \n",
      "65184                                              0                   0  \n",
      "65185                                              0                   0  \n",
      "65186                                              0                   0  \n",
      "65187                                              0                   0  \n",
      "\n",
      "[65188 rows x 64 columns]\n"
     ]
    }
   ],
   "source": [
    "clf = svm.SVC()\n",
    "\n",
    "y_train = data['CLASS']\n",
    "x_train = data.drop(columns='CLASS')\n",
    "\n",
    "clf.fit(x_train, y_train)\n",
    "\n",
    "print(data)"
   ]
  }
 ],
 "metadata": {
  "kernelspec": {
   "display_name": "Python 3.8.10 64-bit (microsoft store)",
   "language": "python",
   "name": "python3"
  },
  "language_info": {
   "codemirror_mode": {
    "name": "ipython",
    "version": 3
   },
   "file_extension": ".py",
   "mimetype": "text/x-python",
   "name": "python",
   "nbconvert_exporter": "python",
   "pygments_lexer": "ipython3",
   "version": "3.8.10"
  },
  "orig_nbformat": 4,
  "vscode": {
   "interpreter": {
    "hash": "311f9256461ac280b82068fc725a24d611a5a83d3e4a2766e048ca4852818f88"
   }
  }
 },
 "nbformat": 4,
 "nbformat_minor": 2
}
